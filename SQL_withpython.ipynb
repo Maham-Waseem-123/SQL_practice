{
 "cells": [
  {
   "cell_type": "code",
   "execution_count": 25,
   "id": "02cafe0e-5f48-4356-b8e2-c17e9ba18966",
   "metadata": {},
   "outputs": [],
   "source": [
    "# importing necessary libaries \n",
    "import mysql.connector\n",
    "from mysql.connector import Error\n",
    "import pandas as pd\n"
   ]
  },
  {
   "cell_type": "code",
   "execution_count": 35,
   "id": "7638abb3-7e31-476e-8155-7d76ea956d41",
   "metadata": {},
   "outputs": [
    {
     "name": "stdout",
     "output_type": "stream",
     "text": [
      "MySQL Database connection sucessful\n"
     ]
    }
   ],
   "source": [
    "#connection function \n",
    "def create_server_connection(host_name, user_name, user_password):\n",
    "    connection = None\n",
    "    try:\n",
    "        connection = mysql.connector.connect(\n",
    "            host = host_name,\n",
    "            user = user_name, \n",
    "            passwd = user_password\n",
    "        )\n",
    "        print(\"MySQL Database connection sucessful\")\n",
    "    \n",
    "    except Error as err:\n",
    "        print(f\"Error: '{err}'\")\n",
    "    \n",
    "    return connection\n",
    "\n",
    "#Password is \n",
    "psd = 'Datascience12.'\n",
    "# Connection to the sql \n",
    "connection = create_server_connection('localhost', 'root', psd)"
   ]
  },
  {
   "cell_type": "code",
   "execution_count": 36,
   "id": "86883034-1934-4969-b5cd-3b1541654dcb",
   "metadata": {},
   "outputs": [],
   "source": [
    "# In this function, we are only connecting to the MySQL server, not to any specific database yet.\n",
    "# First, we create the function and set the connection as \"None\" (empty) for now.\n",
    "# Then, inside the try block, we give the login details (host, user, and password) to connect to the server.\n",
    "# If the connection works, it prints a success message. If not, it shows the error.\n",
    "# The return line gives us back the connection so we can use it later in other parts of the code.\n"
   ]
  },
  {
   "cell_type": "code",
   "execution_count": 38,
   "id": "8ca9602d-af93-40ef-aea7-846ea8836d52",
   "metadata": {},
   "outputs": [],
   "source": [
    "# Creating a Database in my.sql\n",
    "\n",
    "def create_database(connection, query):\n",
    "    cursor = connection.cursor()\n",
    "    try:\n",
    "        cursor.execute(query)\n",
    "        print(\"Database created Sucessfully\")\n",
    "    except Error as Err:\n",
    "        print(f\"Error: '{Err}'\")\n",
    "\n",
    "# This function is used to create a database.\n",
    "# It takes two inputs: one is the database connection, and the other is the SQL query.\n",
    "# A cursor is a tool that allows us to run commands on the database, so we create it using the connection.\n",
    "# Inside the try block, we run the query. If it works, it prints a success message.\n",
    "# If something goes wrong, the except block will show the error message.\n",
    "# In the 'create_database_query', we write the SQL command to create the database.\n",
    "# Then, we call the function and pass in the connection and the query."
   ]
  },
  {
   "cell_type": "code",
   "execution_count": 39,
   "id": "d7c37e01-d6e1-49c5-9177-77b9cc00ef5c",
   "metadata": {},
   "outputs": [
    {
     "name": "stdout",
     "output_type": "stream",
     "text": [
      "Database created Sucessfully\n"
     ]
    }
   ],
   "source": [
    "create_database_query = \"CREATE DATABASE mysql_python_1\"\n",
    "create_database(connection, create_database_query)\n"
   ]
  },
  {
   "cell_type": "code",
   "execution_count": 40,
   "id": "e3ab90a9-1d30-4be7-af62-a46b33113472",
   "metadata": {},
   "outputs": [],
   "source": [
    "def create_db_connection(host_name, user_name, user_password, db_name):\n",
    "    connection = None\n",
    "    try:\n",
    "        connection = mysql.connector.connect(\n",
    "            host=host_name,\n",
    "            user=user_name,\n",
    "            password=user_password,\n",
    "            database=db_name\n",
    "        )\n",
    "        print('MySQL Database connection successful')\n",
    "    except Error as err:\n",
    "        print(f\"Error: '{err}'\")\n",
    "    return connection\n"
   ]
  },
  {
   "cell_type": "code",
   "execution_count": 41,
   "id": "81008bb8-a593-406d-9233-ebe65ebff119",
   "metadata": {},
   "outputs": [],
   "source": [
    "# Executing queries \n",
    "\n",
    "def execute_query(connection, query):\n",
    "    cursor = connection.cursor()\n",
    "    try:\n",
    "        cursor.execute(query)\n",
    "        connection.commit()\n",
    "        print(\"Query was successful\")\n",
    "    except Error as err:\n",
    "        print(f\"Error: '{err}'\")\n",
    "\n",
    "# This function is used to execute SQL queries on the database.\n",
    "\n",
    "# The code first creates a cursor, which is used to run commands in the database.\n",
    "# Inside the try block, it runs the SQL query.\n",
    "# The commit line saves any changes (like insert, update, or delete) to the database.\n",
    "# If something goes wrong, the except block will show the error message.\n"
   ]
  },
  {
   "cell_type": "code",
   "execution_count": 42,
   "id": "e72e12e4-f6f9-4047-8df4-470e088241de",
   "metadata": {},
   "outputs": [
    {
     "name": "stdout",
     "output_type": "stream",
     "text": [
      "MySQL Database connection successful\n",
      "Query was successful\n"
     ]
    }
   ],
   "source": [
    "# Creating a table\n",
    "create_orders_table = \"\"\"\n",
    "CREATE TABLE orders (\n",
    "    order_id INT PRIMARY KEY,\n",
    "    customer_name VARCHAR(30) NOT NULL,\n",
    "    product_name VARCHAR(20) NOT NULL,\n",
    "    date_ordered DATE,\n",
    "    quantity INT,\n",
    "    unit_price FLOAT,\n",
    "    phone_number VARCHAR(20)\n",
    ");\n",
    "\"\"\"\n",
    "\n",
    "connection = create_db_connection('localhost', 'root', 'Datascience12.', 'mysql_python_1')\n",
    "execute_query (connection, create_orders_table)"
   ]
  },
  {
   "cell_type": "code",
   "execution_count": 43,
   "id": "68c28c7b-941f-44af-bb65-169928863b38",
   "metadata": {},
   "outputs": [
    {
     "name": "stdout",
     "output_type": "stream",
     "text": [
      "MySQL Database connection successful\n",
      "Query was successful\n"
     ]
    }
   ],
   "source": [
    "insert_orders = \"\"\"\n",
    "INSERT INTO orders (order_id, customer_name, product_name, date_ordered, quantity, unit_price, phone_number)\n",
    "VALUES \n",
    "(101, 'Ali', 'Laptop', '2023-01-10', 1, 750.00, '03001234567'),\n",
    "(102, 'Sara', 'Phone', '2023-01-15', 2, 450.00, '03012345678'),\n",
    "(103, 'Ahmed', 'Tablet', '2023-02-01', 1, 300.00, '03023456789'),\n",
    "(104, 'Ayesha', 'Monitor', '2023-02-10', 3, 150.00, '03034567890'),\n",
    "(105, 'Usman', 'Keyboard', '2023-03-01', 5, 25.00, '03045678901'),\n",
    "(106, 'Zainab', 'Mouse', '2023-03-10', 4, 20.00, '03056789012'),\n",
    "(107, 'Bilal', 'Printer', '2023-04-05', 1, 120.00, '03067890123'),\n",
    "(108, 'Fatima', 'Speaker', '2023-04-20', 2, 60.00, '03078901234'),\n",
    "(109, 'Hassan', 'Camera', '2023-05-02', 1, 500.00, '03089012345'),\n",
    "(110, 'Noor', 'Smartwatch', '2023-05-15', 2, 200.00, '03090123456');\n",
    "\"\"\"\n",
    "connection = create_db_connection('localhost', 'root', 'Datascience12.', 'mysql_python_1')\n",
    "execute_query (connection, insert_orders)"
   ]
  },
  {
   "cell_type": "code",
   "execution_count": 47,
   "id": "187b0bd1-87a1-4c62-95bc-1f961c3fc9e1",
   "metadata": {},
   "outputs": [],
   "source": [
    "# Read query and display result \n",
    "def read_query(connection, query):\n",
    "    cursor = connection.cursor()\n",
    "    result = None\n",
    "    try:\n",
    "        cursor.execute(query)\n",
    "        result = cursor.fetchall()\n",
    "        return result\n",
    "    except Error as err:\n",
    "        print(f\"Error : '{err}'\")\n",
    "# This function reads and prints the result of a query.\n",
    "# result = None sets the initial value.\n",
    "# In the try block, it fetches all the results from the query.\n",
    "# Then it returns the result.\n"
   ]
  },
  {
   "cell_type": "code",
   "execution_count": 52,
   "id": "5a9209f4-0d35-49b1-8048-96b78ae29237",
   "metadata": {},
   "outputs": [
    {
     "name": "stdout",
     "output_type": "stream",
     "text": [
      "MySQL Database connection successful\n",
      "(101, 'Ali', 'Laptop', datetime.date(2023, 1, 10), 1, 750.0, '03001234567')\n",
      "(102, 'Sara', 'Phone', datetime.date(2023, 1, 15), 2, 450.0, '03012345678')\n",
      "(103, 'Ahmed', 'Tablet', datetime.date(2023, 2, 1), 1, 300.0, '03023456789')\n",
      "(104, 'Ayesha', 'Monitor', datetime.date(2023, 2, 10), 3, 150.0, '03034567890')\n",
      "(105, 'Usman', 'Keyboard', datetime.date(2023, 3, 1), 5, 25.0, '03045678901')\n",
      "(106, 'Zainab', 'Mouse', datetime.date(2023, 3, 10), 4, 20.0, '03056789012')\n",
      "(107, 'Bilal', 'Printer', datetime.date(2023, 4, 5), 1, 120.0, '03067890123')\n",
      "(108, 'Fatima', 'Speaker', datetime.date(2023, 4, 20), 2, 60.0, '03078901234')\n",
      "(109, 'Hassan', 'Camera', datetime.date(2023, 5, 2), 1, 500.0, '03089012345')\n",
      "(110, 'Noor', 'Smartwatch', datetime.date(2023, 5, 15), 2, 200.0, '03090123456')\n"
     ]
    }
   ],
   "source": [
    "# using select statement \n",
    "Q1 = \"\"\"\n",
    "select * from orders;\n",
    "\"\"\"\n",
    "connection = create_db_connection('localhost', 'root', 'Datascience12.', 'mysql_python_1')\n",
    "result = read_query(connection, Q1)\n",
    "for results in result:\n",
    "    print(results)"
   ]
  },
  {
   "cell_type": "code",
   "execution_count": null,
   "id": "3b73a912-785b-4d9a-a672-b94ec6b94af0",
   "metadata": {},
   "outputs": [],
   "source": [
    "# The format of the loop is: for each item in a list, do something with that item.\n",
    "# Here, 'result' is a variable that holds one item at a time from the list called 'results'.\n",
    "# Then it prints that individual result.\n"
   ]
  },
  {
   "cell_type": "code",
   "execution_count": 54,
   "id": "cff40b6c-2f15-413f-a894-87a74840303d",
   "metadata": {},
   "outputs": [
    {
     "name": "stdout",
     "output_type": "stream",
     "text": [
      "MySQL Database connection successful\n",
      "(101, 'Ali')\n",
      "(102, 'Sara')\n",
      "(103, 'Ahmed')\n",
      "(104, 'Ayesha')\n",
      "(105, 'Usman')\n",
      "(106, 'Zainab')\n",
      "(107, 'Bilal')\n",
      "(108, 'Fatima')\n",
      "(109, 'Hassan')\n",
      "(110, 'Noor')\n"
     ]
    }
   ],
   "source": [
    "# For one some columns to returns. \n",
    "\n",
    "Q2 = \"\"\"\n",
    "select order_id, customer_name from orders;\n",
    "\"\"\"\n",
    "connection = create_db_connection('localhost', 'root', 'Datascience12.', 'mysql_python_1')\n",
    "result = read_query(connection, Q2)\n",
    "for results in result:\n",
    "    print(results)"
   ]
  },
  {
   "cell_type": "code",
   "execution_count": 55,
   "id": "2264c9ca-c78d-4376-a5b6-62be28989076",
   "metadata": {},
   "outputs": [
    {
     "name": "stdout",
     "output_type": "stream",
     "text": [
      "MySQL Database connection successful\n",
      "(2023,)\n",
      "(2023,)\n",
      "(2023,)\n",
      "(2023,)\n",
      "(2023,)\n",
      "(2023,)\n",
      "(2023,)\n",
      "(2023,)\n",
      "(2023,)\n",
      "(2023,)\n"
     ]
    }
   ],
   "source": [
    "# Print only years from table\n",
    "\n",
    "Q3 = \"\"\"\n",
    "select year(date_ordered) from orders;\n",
    "\"\"\"\n",
    "connection = create_db_connection('localhost', 'root', 'Datascience12.', 'mysql_python_1')\n",
    "result = read_query(connection, Q3)\n",
    "for results in result:\n",
    "    print(results)"
   ]
  },
  {
   "cell_type": "code",
   "execution_count": 56,
   "id": "8f4e0139-4074-4bf0-8a1f-1ce891313722",
   "metadata": {},
   "outputs": [
    {
     "name": "stdout",
     "output_type": "stream",
     "text": [
      "MySQL Database connection successful\n",
      "(2023,)\n"
     ]
    }
   ],
   "source": [
    "#Distinct years\n",
    "Q4 = \"\"\"\n",
    "select distinct(year(date_ordered)) from orders;\n",
    "\"\"\"\n",
    "connection = create_db_connection('localhost', 'root', 'Datascience12.', 'mysql_python_1')\n",
    "result = read_query(connection, Q4)\n",
    "for results in result:\n",
    "    print(results)"
   ]
  },
  {
   "cell_type": "code",
   "execution_count": 58,
   "id": "9f0c6c75-a9a7-4967-86d4-274259d7a4f1",
   "metadata": {},
   "outputs": [
    {
     "name": "stdout",
     "output_type": "stream",
     "text": [
      "MySQL Database connection successful\n",
      "(101, 'Ali', 'Laptop', datetime.date(2023, 1, 10), 1, 750.0, '03001234567')\n",
      "(109, 'Hassan', 'Camera', datetime.date(2023, 5, 2), 1, 500.0, '03089012345')\n",
      "(102, 'Sara', 'Phone', datetime.date(2023, 1, 15), 2, 450.0, '03012345678')\n",
      "(103, 'Ahmed', 'Tablet', datetime.date(2023, 2, 1), 1, 300.0, '03023456789')\n",
      "(110, 'Noor', 'Smartwatch', datetime.date(2023, 5, 15), 2, 200.0, '03090123456')\n",
      "(104, 'Ayesha', 'Monitor', datetime.date(2023, 2, 10), 3, 150.0, '03034567890')\n",
      "(107, 'Bilal', 'Printer', datetime.date(2023, 4, 5), 1, 120.0, '03067890123')\n",
      "(108, 'Fatima', 'Speaker', datetime.date(2023, 4, 20), 2, 60.0, '03078901234')\n",
      "(105, 'Usman', 'Keyboard', datetime.date(2023, 3, 1), 5, 25.0, '03045678901')\n",
      "(106, 'Zainab', 'Mouse', datetime.date(2023, 3, 10), 4, 20.0, '03056789012')\n"
     ]
    }
   ],
   "source": [
    "# Order by unit price. \n",
    "Q5 = \"\"\"\n",
    "select * from orders order by unit_price desc ;\n",
    "\"\"\"\n",
    "connection = create_db_connection('localhost', 'root', 'Datascience12.', 'mysql_python_1')\n",
    "result = read_query(connection, Q5)\n",
    "for results in result:\n",
    "        print(results)"
   ]
  },
  {
   "cell_type": "code",
   "execution_count": 60,
   "id": "28633b00-51dd-4577-b48c-6163ff62e8bf",
   "metadata": {},
   "outputs": [
    {
     "ename": "ValueError",
     "evalue": "7 columns passed, passed data had 10 columns",
     "output_type": "error",
     "traceback": [
      "\u001b[1;31m---------------------------------------------------------------------------\u001b[0m",
      "\u001b[1;31mAssertionError\u001b[0m                            Traceback (most recent call last)",
      "File \u001b[1;32m~\\AppData\\Local\\Programs\\Python\\Python310\\lib\\site-packages\\pandas\\core\\internals\\construction.py:939\u001b[0m, in \u001b[0;36m_finalize_columns_and_data\u001b[1;34m(content, columns, dtype)\u001b[0m\n\u001b[0;32m    938\u001b[0m \u001b[38;5;28;01mtry\u001b[39;00m:\n\u001b[1;32m--> 939\u001b[0m     columns \u001b[38;5;241m=\u001b[39m \u001b[43m_validate_or_indexify_columns\u001b[49m\u001b[43m(\u001b[49m\u001b[43mcontents\u001b[49m\u001b[43m,\u001b[49m\u001b[43m \u001b[49m\u001b[43mcolumns\u001b[49m\u001b[43m)\u001b[49m\n\u001b[0;32m    940\u001b[0m \u001b[38;5;28;01mexcept\u001b[39;00m \u001b[38;5;167;01mAssertionError\u001b[39;00m \u001b[38;5;28;01mas\u001b[39;00m err:\n\u001b[0;32m    941\u001b[0m     \u001b[38;5;66;03m# GH#26429 do not raise user-facing AssertionError\u001b[39;00m\n",
      "File \u001b[1;32m~\\AppData\\Local\\Programs\\Python\\Python310\\lib\\site-packages\\pandas\\core\\internals\\construction.py:986\u001b[0m, in \u001b[0;36m_validate_or_indexify_columns\u001b[1;34m(content, columns)\u001b[0m\n\u001b[0;32m    984\u001b[0m \u001b[38;5;28;01mif\u001b[39;00m \u001b[38;5;129;01mnot\u001b[39;00m is_mi_list \u001b[38;5;129;01mand\u001b[39;00m \u001b[38;5;28mlen\u001b[39m(columns) \u001b[38;5;241m!=\u001b[39m \u001b[38;5;28mlen\u001b[39m(content):  \u001b[38;5;66;03m# pragma: no cover\u001b[39;00m\n\u001b[0;32m    985\u001b[0m     \u001b[38;5;66;03m# caller's responsibility to check for this...\u001b[39;00m\n\u001b[1;32m--> 986\u001b[0m     \u001b[38;5;28;01mraise\u001b[39;00m \u001b[38;5;167;01mAssertionError\u001b[39;00m(\n\u001b[0;32m    987\u001b[0m         \u001b[38;5;124mf\u001b[39m\u001b[38;5;124m\"\u001b[39m\u001b[38;5;132;01m{\u001b[39;00m\u001b[38;5;28mlen\u001b[39m(columns)\u001b[38;5;132;01m}\u001b[39;00m\u001b[38;5;124m columns passed, passed data had \u001b[39m\u001b[38;5;124m\"\u001b[39m\n\u001b[0;32m    988\u001b[0m         \u001b[38;5;124mf\u001b[39m\u001b[38;5;124m\"\u001b[39m\u001b[38;5;132;01m{\u001b[39;00m\u001b[38;5;28mlen\u001b[39m(content)\u001b[38;5;132;01m}\u001b[39;00m\u001b[38;5;124m columns\u001b[39m\u001b[38;5;124m\"\u001b[39m\n\u001b[0;32m    989\u001b[0m     )\n\u001b[0;32m    990\u001b[0m \u001b[38;5;28;01mif\u001b[39;00m is_mi_list:\n\u001b[0;32m    991\u001b[0m     \u001b[38;5;66;03m# check if nested list column, length of each sub-list should be equal\u001b[39;00m\n",
      "\u001b[1;31mAssertionError\u001b[0m: 7 columns passed, passed data had 10 columns",
      "\nThe above exception was the direct cause of the following exception:\n",
      "\u001b[1;31mValueError\u001b[0m                                Traceback (most recent call last)",
      "Cell \u001b[1;32mIn[60], line 8\u001b[0m\n\u001b[0;32m      5\u001b[0m     from_db\u001b[38;5;241m.\u001b[39mappend(results)\n\u001b[0;32m      7\u001b[0m columns \u001b[38;5;241m=\u001b[39m [\u001b[38;5;124m'\u001b[39m\u001b[38;5;124morder_id\u001b[39m\u001b[38;5;124m'\u001b[39m, \u001b[38;5;124m'\u001b[39m\u001b[38;5;124mcustomer_name\u001b[39m\u001b[38;5;124m'\u001b[39m, \u001b[38;5;124m'\u001b[39m\u001b[38;5;124mproduct_name\u001b[39m\u001b[38;5;124m'\u001b[39m, \u001b[38;5;124m'\u001b[39m\u001b[38;5;124mdate_ordered\u001b[39m\u001b[38;5;124m'\u001b[39m, \u001b[38;5;124m'\u001b[39m\u001b[38;5;124mquantity\u001b[39m\u001b[38;5;124m'\u001b[39m, \u001b[38;5;124m'\u001b[39m\u001b[38;5;124munit_price\u001b[39m\u001b[38;5;124m'\u001b[39m, \u001b[38;5;124m'\u001b[39m\u001b[38;5;124mphone_number\u001b[39m\u001b[38;5;124m'\u001b[39m]\n\u001b[1;32m----> 8\u001b[0m df \u001b[38;5;241m=\u001b[39m \u001b[43mpd\u001b[49m\u001b[38;5;241;43m.\u001b[39;49m\u001b[43mDataFrame\u001b[49m\u001b[43m(\u001b[49m\u001b[43mfrom_db\u001b[49m\u001b[43m,\u001b[49m\u001b[43m \u001b[49m\u001b[43mcolumns\u001b[49m\u001b[38;5;241;43m=\u001b[39;49m\u001b[43mcolumns\u001b[49m\u001b[43m)\u001b[49m\n\u001b[0;32m      9\u001b[0m display(df)\n",
      "File \u001b[1;32m~\\AppData\\Local\\Programs\\Python\\Python310\\lib\\site-packages\\pandas\\core\\frame.py:851\u001b[0m, in \u001b[0;36mDataFrame.__init__\u001b[1;34m(self, data, index, columns, dtype, copy)\u001b[0m\n\u001b[0;32m    849\u001b[0m     \u001b[38;5;28;01mif\u001b[39;00m columns \u001b[38;5;129;01mis\u001b[39;00m \u001b[38;5;129;01mnot\u001b[39;00m \u001b[38;5;28;01mNone\u001b[39;00m:\n\u001b[0;32m    850\u001b[0m         columns \u001b[38;5;241m=\u001b[39m ensure_index(columns)\n\u001b[1;32m--> 851\u001b[0m     arrays, columns, index \u001b[38;5;241m=\u001b[39m \u001b[43mnested_data_to_arrays\u001b[49m\u001b[43m(\u001b[49m\n\u001b[0;32m    852\u001b[0m \u001b[43m        \u001b[49m\u001b[38;5;66;43;03m# error: Argument 3 to \"nested_data_to_arrays\" has incompatible\u001b[39;49;00m\n\u001b[0;32m    853\u001b[0m \u001b[43m        \u001b[49m\u001b[38;5;66;43;03m# type \"Optional[Collection[Any]]\"; expected \"Optional[Index]\"\u001b[39;49;00m\n\u001b[0;32m    854\u001b[0m \u001b[43m        \u001b[49m\u001b[43mdata\u001b[49m\u001b[43m,\u001b[49m\n\u001b[0;32m    855\u001b[0m \u001b[43m        \u001b[49m\u001b[43mcolumns\u001b[49m\u001b[43m,\u001b[49m\n\u001b[0;32m    856\u001b[0m \u001b[43m        \u001b[49m\u001b[43mindex\u001b[49m\u001b[43m,\u001b[49m\u001b[43m  \u001b[49m\u001b[38;5;66;43;03m# type: ignore[arg-type]\u001b[39;49;00m\n\u001b[0;32m    857\u001b[0m \u001b[43m        \u001b[49m\u001b[43mdtype\u001b[49m\u001b[43m,\u001b[49m\n\u001b[0;32m    858\u001b[0m \u001b[43m    \u001b[49m\u001b[43m)\u001b[49m\n\u001b[0;32m    859\u001b[0m     mgr \u001b[38;5;241m=\u001b[39m arrays_to_mgr(\n\u001b[0;32m    860\u001b[0m         arrays,\n\u001b[0;32m    861\u001b[0m         columns,\n\u001b[1;32m   (...)\u001b[0m\n\u001b[0;32m    864\u001b[0m         typ\u001b[38;5;241m=\u001b[39mmanager,\n\u001b[0;32m    865\u001b[0m     )\n\u001b[0;32m    866\u001b[0m \u001b[38;5;28;01melse\u001b[39;00m:\n",
      "File \u001b[1;32m~\\AppData\\Local\\Programs\\Python\\Python310\\lib\\site-packages\\pandas\\core\\internals\\construction.py:520\u001b[0m, in \u001b[0;36mnested_data_to_arrays\u001b[1;34m(data, columns, index, dtype)\u001b[0m\n\u001b[0;32m    517\u001b[0m \u001b[38;5;28;01mif\u001b[39;00m is_named_tuple(data[\u001b[38;5;241m0\u001b[39m]) \u001b[38;5;129;01mand\u001b[39;00m columns \u001b[38;5;129;01mis\u001b[39;00m \u001b[38;5;28;01mNone\u001b[39;00m:\n\u001b[0;32m    518\u001b[0m     columns \u001b[38;5;241m=\u001b[39m ensure_index(data[\u001b[38;5;241m0\u001b[39m]\u001b[38;5;241m.\u001b[39m_fields)\n\u001b[1;32m--> 520\u001b[0m arrays, columns \u001b[38;5;241m=\u001b[39m \u001b[43mto_arrays\u001b[49m\u001b[43m(\u001b[49m\u001b[43mdata\u001b[49m\u001b[43m,\u001b[49m\u001b[43m \u001b[49m\u001b[43mcolumns\u001b[49m\u001b[43m,\u001b[49m\u001b[43m \u001b[49m\u001b[43mdtype\u001b[49m\u001b[38;5;241;43m=\u001b[39;49m\u001b[43mdtype\u001b[49m\u001b[43m)\u001b[49m\n\u001b[0;32m    521\u001b[0m columns \u001b[38;5;241m=\u001b[39m ensure_index(columns)\n\u001b[0;32m    523\u001b[0m \u001b[38;5;28;01mif\u001b[39;00m index \u001b[38;5;129;01mis\u001b[39;00m \u001b[38;5;28;01mNone\u001b[39;00m:\n",
      "File \u001b[1;32m~\\AppData\\Local\\Programs\\Python\\Python310\\lib\\site-packages\\pandas\\core\\internals\\construction.py:845\u001b[0m, in \u001b[0;36mto_arrays\u001b[1;34m(data, columns, dtype)\u001b[0m\n\u001b[0;32m    842\u001b[0m     data \u001b[38;5;241m=\u001b[39m [\u001b[38;5;28mtuple\u001b[39m(x) \u001b[38;5;28;01mfor\u001b[39;00m x \u001b[38;5;129;01min\u001b[39;00m data]\n\u001b[0;32m    843\u001b[0m     arr \u001b[38;5;241m=\u001b[39m _list_to_arrays(data)\n\u001b[1;32m--> 845\u001b[0m content, columns \u001b[38;5;241m=\u001b[39m \u001b[43m_finalize_columns_and_data\u001b[49m\u001b[43m(\u001b[49m\u001b[43marr\u001b[49m\u001b[43m,\u001b[49m\u001b[43m \u001b[49m\u001b[43mcolumns\u001b[49m\u001b[43m,\u001b[49m\u001b[43m \u001b[49m\u001b[43mdtype\u001b[49m\u001b[43m)\u001b[49m\n\u001b[0;32m    846\u001b[0m \u001b[38;5;28;01mreturn\u001b[39;00m content, columns\n",
      "File \u001b[1;32m~\\AppData\\Local\\Programs\\Python\\Python310\\lib\\site-packages\\pandas\\core\\internals\\construction.py:942\u001b[0m, in \u001b[0;36m_finalize_columns_and_data\u001b[1;34m(content, columns, dtype)\u001b[0m\n\u001b[0;32m    939\u001b[0m     columns \u001b[38;5;241m=\u001b[39m _validate_or_indexify_columns(contents, columns)\n\u001b[0;32m    940\u001b[0m \u001b[38;5;28;01mexcept\u001b[39;00m \u001b[38;5;167;01mAssertionError\u001b[39;00m \u001b[38;5;28;01mas\u001b[39;00m err:\n\u001b[0;32m    941\u001b[0m     \u001b[38;5;66;03m# GH#26429 do not raise user-facing AssertionError\u001b[39;00m\n\u001b[1;32m--> 942\u001b[0m     \u001b[38;5;28;01mraise\u001b[39;00m \u001b[38;5;167;01mValueError\u001b[39;00m(err) \u001b[38;5;28;01mfrom\u001b[39;00m\u001b[38;5;250m \u001b[39m\u001b[38;5;21;01merr\u001b[39;00m\n\u001b[0;32m    944\u001b[0m \u001b[38;5;28;01mif\u001b[39;00m \u001b[38;5;28mlen\u001b[39m(contents) \u001b[38;5;129;01mand\u001b[39;00m contents[\u001b[38;5;241m0\u001b[39m]\u001b[38;5;241m.\u001b[39mdtype \u001b[38;5;241m==\u001b[39m np\u001b[38;5;241m.\u001b[39mobject_:\n\u001b[0;32m    945\u001b[0m     contents \u001b[38;5;241m=\u001b[39m convert_object_array(contents, dtype\u001b[38;5;241m=\u001b[39mdtype)\n",
      "\u001b[1;31mValueError\u001b[0m: 7 columns passed, passed data had 10 columns"
     ]
    }
   ],
   "source": [
    "# Presenting as a DataFrame\n",
    "from_db = []\n",
    "for results in result:\n",
    "    results= list(result)\n",
    "    from_db.append(results)\n",
    "\n",
    "columns = ['order_id', 'customer_name', 'product_name', 'date_ordered', 'quantity', 'unit_price', 'phone_number']\n",
    "df = pd.DataFrame(from_db, columns=columns)\n",
    "display(df)\n"
   ]
  },
  {
   "cell_type": "code",
   "execution_count": null,
   "id": "d665179c-d8de-477a-8f5b-fcb81724a275",
   "metadata": {},
   "outputs": [],
   "source": []
  }
 ],
 "metadata": {
  "kernelspec": {
   "display_name": "Python 3 (ipykernel)",
   "language": "python",
   "name": "python3"
  },
  "language_info": {
   "codemirror_mode": {
    "name": "ipython",
    "version": 3
   },
   "file_extension": ".py",
   "mimetype": "text/x-python",
   "name": "python",
   "nbconvert_exporter": "python",
   "pygments_lexer": "ipython3",
   "version": "3.10.0"
  }
 },
 "nbformat": 4,
 "nbformat_minor": 5
}
