{
 "cells": [
  {
   "cell_type": "code",
   "execution_count": 25,
   "id": "02cafe0e-5f48-4356-b8e2-c17e9ba18966",
   "metadata": {},
   "outputs": [],
   "source": [
    "# importing necessary libaries \n",
    "import mysql.connector\n",
    "from mysql.connector import Error\n",
    "import pandas as pd\n"
   ]
  },
  {
   "cell_type": "code",
   "execution_count": 35,
   "id": "7638abb3-7e31-476e-8155-7d76ea956d41",
   "metadata": {},
   "outputs": [
    {
     "name": "stdout",
     "output_type": "stream",
     "text": [
      "MySQL Database connection sucessful\n"
     ]
    }
   ],
   "source": [
    "#connection function \n",
    "def create_server_connection(host_name, user_name, user_password):\n",
    "    connection = None\n",
    "    try:\n",
    "        connection = mysql.connector.connect(\n",
    "            host = host_name,\n",
    "            user = user_name, \n",
    "            passwd = user_password\n",
    "        )\n",
    "        print(\"MySQL Database connection sucessful\")\n",
    "    \n",
    "    except Error as err:\n",
    "        print(f\"Error: '{err}'\")\n",
    "    \n",
    "    return connection\n",
    "\n",
    "#Password is \n",
    "psd = '*******'\n",
    "# Connection to the sql \n",
    "connection = create_server_connection('localhost', '****', psd)"
   ]
  },
  {
   "cell_type": "code",
   "execution_count": 36,
   "id": "86883034-1934-4969-b5cd-3b1541654dcb",
   "metadata": {},
   "outputs": [],
   "source": [
    "# In this function, we are only connecting to the MySQL server, not to any specific database yet.\n",
    "# First, we create the function and set the connection as \"None\" (empty) for now.\n",
    "# Then, inside the try block, we give the login details (host, user, and password) to connect to the server.\n",
    "# If the connection works, it prints a success message. If not, it shows the error.\n",
    "# The return line gives us back the connection so we can use it later in other parts of the code.\n"
   ]
  },
  {
   "cell_type": "code",
   "execution_count": 38,
   "id": "8ca9602d-af93-40ef-aea7-846ea8836d52",
   "metadata": {},
   "outputs": [],
   "source": [
    "# Creating a Database in my.sql\n",
    "\n",
    "def create_database(connection, query):\n",
    "    cursor = connection.cursor()\n",
    "    try:\n",
    "        cursor.execute(query)\n",
    "        print(\"Database created Sucessfully\")\n",
    "    except Error as Err:\n",
    "        print(f\"Error: '{Err}'\")\n",
    "\n",
    "# This function is used to create a database.\n",
    "# It takes two inputs: one is the database connection, and the other is the SQL query.\n",
    "# A cursor is a tool that allows us to run commands on the database, so we create it using the connection.\n",
    "# Inside the try block, we run the query. If it works, it prints a success message.\n",
    "# If something goes wrong, the except block will show the error message.\n",
    "# In the 'create_database_query', we write the SQL command to create the database.\n",
    "# Then, we call the function and pass in the connection and the query."
   ]
  },
  {
   "cell_type": "code",
   "execution_count": 39,
   "id": "d7c37e01-d6e1-49c5-9177-77b9cc00ef5c",
   "metadata": {},
   "outputs": [
    {
     "name": "stdout",
     "output_type": "stream",
     "text": [
      "Database created Sucessfully\n"
     ]
    }
   ],
   "source": [
    "create_database_query = \"CREATE DATABASE mysql_python_1\"\n",
    "create_database(connection, create_database_query)\n"
   ]
  },
  {
   "cell_type": "code",
   "execution_count": 40,
   "id": "e3ab90a9-1d30-4be7-af62-a46b33113472",
   "metadata": {},
   "outputs": [],
   "source": [
    "def create_db_connection(host_name, user_name, user_password, db_name):\n",
    "    connection = None\n",
    "    try:\n",
    "        connection = mysql.connector.connect(\n",
    "            host=host_name,\n",
    "            user=user_name,\n",
    "            password=user_password,\n",
    "            database=db_name\n",
    "        )\n",
    "        print('MySQL Database connection successful')\n",
    "    except Error as err:\n",
    "        print(f\"Error: '{err}'\")\n",
    "    return connection\n"
   ]
  },
  {
   "cell_type": "code",
   "execution_count": 41,
   "id": "81008bb8-a593-406d-9233-ebe65ebff119",
   "metadata": {},
   "outputs": [],
   "source": [
    "# Executing queries \n",
    "\n",
    "def execute_query(connection, query):\n",
    "    cursor = connection.cursor()\n",
    "    try:\n",
    "        cursor.execute(query)\n",
    "        connection.commit()\n",
    "        print(\"Query was successful\")\n",
    "    except Error as err:\n",
    "        print(f\"Error: '{err}'\")\n",
    "\n",
    "# This function is used to execute SQL queries on the database.\n",
    "\n",
    "# The code first creates a cursor, which is used to run commands in the database.\n",
    "# Inside the try block, it runs the SQL query.\n",
    "# The commit line saves any changes (like insert, update, or delete) to the database.\n",
    "# If something goes wrong, the except block will show the error message.\n"
   ]
  },
  {
   "cell_type": "code",
   "execution_count": 42,
   "id": "e72e12e4-f6f9-4047-8df4-470e088241de",
   "metadata": {},
   "outputs": [
    {
     "name": "stdout",
     "output_type": "stream",
     "text": [
      "MySQL Database connection successful\n",
      "Query was successful\n"
     ]
    }
   ],
   "source": [
    "# Creating a table\n",
    "create_orders_table = \"\"\"\n",
    "CREATE TABLE orders (\n",
    "    order_id INT PRIMARY KEY,\n",
    "    customer_name VARCHAR(30) NOT NULL,\n",
    "    product_name VARCHAR(20) NOT NULL,\n",
    "    date_ordered DATE,\n",
    "    quantity INT,\n",
    "    unit_price FLOAT,\n",
    "    phone_number VARCHAR(20)\n",
    ");\n",
    "\"\"\"\n",
    "\n",
    "connection = create_db_connection('localhost', '****', '*******', 'mysql_python_1')\n",
    "execute_query (connection, create_orders_table)"
   ]
  },
  {
   "cell_type": "code",
   "execution_count": 43,
   "id": "68c28c7b-941f-44af-bb65-169928863b38",
   "metadata": {},
   "outputs": [
    {
     "name": "stdout",
     "output_type": "stream",
     "text": [
      "MySQL Database connection successful\n",
      "Query was successful\n"
     ]
    }
   ],
   "source": [
    "insert_orders = \"\"\"\n",
    "INSERT INTO orders (order_id, customer_name, product_name, date_ordered, quantity, unit_price, phone_number)\n",
    "VALUES \n",
    "(101, 'Ali', 'Laptop', '2023-01-10', 1, 750.00, '03001234567'),\n",
    "(102, 'Sara', 'Phone', '2023-01-15', 2, 450.00, '03012345678'),\n",
    "(103, 'Ahmed', 'Tablet', '2023-02-01', 1, 300.00, '03023456789'),\n",
    "(104, 'Ayesha', 'Monitor', '2023-02-10', 3, 150.00, '03034567890'),\n",
    "(105, 'Usman', 'Keyboard', '2023-03-01', 5, 25.00, '03045678901'),\n",
    "(106, 'Zainab', 'Mouse', '2023-03-10', 4, 20.00, '03056789012'),\n",
    "(107, 'Bilal', 'Printer', '2023-04-05', 1, 120.00, '03067890123'),\n",
    "(108, 'Fatima', 'Speaker', '2023-04-20', 2, 60.00, '03078901234'),\n",
    "(109, 'Hassan', 'Camera', '2023-05-02', 1, 500.00, '03089012345'),\n",
    "(110, 'Noor', 'Smartwatch', '2023-05-15', 2, 200.00, '03090123456');\n",
    "\"\"\"\n",
    "connection = create_db_connection('localhost', '****', '*******', 'mysql_python_1')\n",
    "execute_query (connection, insert_orders)"
   ]
  },
  {
   "cell_type": "code",
   "execution_count": 47,
   "id": "187b0bd1-87a1-4c62-95bc-1f961c3fc9e1",
   "metadata": {},
   "outputs": [],
   "source": [
    "# Read query and display result \n",
    "def read_query(connection, query):\n",
    "    cursor = connection.cursor()\n",
    "    result = None\n",
    "    try:\n",
    "        cursor.execute(query)\n",
    "        result = cursor.fetchall()\n",
    "        return result\n",
    "    except Error as err:\n",
    "        print(f\"Error : '{err}'\")\n",
    "# This function reads and prints the result of a query.\n",
    "# result = None sets the initial value.\n",
    "# In the try block, it fetches all the results from the query.\n",
    "# Then it returns the result.\n"
   ]
  },
  {
   "cell_type": "code",
   "execution_count": 52,
   "id": "5a9209f4-0d35-49b1-8048-96b78ae29237",
   "metadata": {},
   "outputs": [
    {
     "name": "stdout",
     "output_type": "stream",
     "text": [
      "MySQL Database connection successful\n",
      "(101, 'Ali', 'Laptop', datetime.date(2023, 1, 10), 1, 750.0, '03001234567')\n",
      "(102, 'Sara', 'Phone', datetime.date(2023, 1, 15), 2, 450.0, '03012345678')\n",
      "(103, 'Ahmed', 'Tablet', datetime.date(2023, 2, 1), 1, 300.0, '03023456789')\n",
      "(104, 'Ayesha', 'Monitor', datetime.date(2023, 2, 10), 3, 150.0, '03034567890')\n",
      "(105, 'Usman', 'Keyboard', datetime.date(2023, 3, 1), 5, 25.0, '03045678901')\n",
      "(106, 'Zainab', 'Mouse', datetime.date(2023, 3, 10), 4, 20.0, '03056789012')\n",
      "(107, 'Bilal', 'Printer', datetime.date(2023, 4, 5), 1, 120.0, '03067890123')\n",
      "(108, 'Fatima', 'Speaker', datetime.date(2023, 4, 20), 2, 60.0, '03078901234')\n",
      "(109, 'Hassan', 'Camera', datetime.date(2023, 5, 2), 1, 500.0, '03089012345')\n",
      "(110, 'Noor', 'Smartwatch', datetime.date(2023, 5, 15), 2, 200.0, '03090123456')\n"
     ]
    }
   ],
   "source": [
    "# using select statement \n",
    "Q1 = \"\"\"\n",
    "select * from orders;\n",
    "\"\"\"\n",
    "connection = create_db_connection('localhost', '****', '*******', 'mysql_python_1')\n",
    "result = read_query(connection, Q1)\n",
    "for results in result:\n",
    "    print(results)"
   ]
  },
  {
   "cell_type": "code",
   "execution_count": null,
   "id": "3b73a912-785b-4d9a-a672-b94ec6b94af0",
   "metadata": {},
   "outputs": [],
   "source": [
    "# The format of the loop is: for each item in a list, do something with that item.\n",
    "# Here, 'result' is a variable that holds one item at a time from the list called 'results'.\n",
    "# Then it prints that individual result.\n"
   ]
  },
  {
   "cell_type": "code",
   "execution_count": 54,
   "id": "cff40b6c-2f15-413f-a894-87a74840303d",
   "metadata": {},
   "outputs": [
    {
     "name": "stdout",
     "output_type": "stream",
     "text": [
      "MySQL Database connection successful\n",
      "(101, 'Ali')\n",
      "(102, 'Sara')\n",
      "(103, 'Ahmed')\n",
      "(104, 'Ayesha')\n",
      "(105, 'Usman')\n",
      "(106, 'Zainab')\n",
      "(107, 'Bilal')\n",
      "(108, 'Fatima')\n",
      "(109, 'Hassan')\n",
      "(110, 'Noor')\n"
     ]
    }
   ],
   "source": [
    "# For one some columns to returns. \n",
    "\n",
    "Q2 = \"\"\"\n",
    "select order_id, customer_name from orders;\n",
    "\"\"\"\n",
    "connection = create_db_connection('localhost', '****', '*******', 'mysql_python_1')\n",
    "result = read_query(connection, Q2)\n",
    "for results in result:\n",
    "    print(results)"
   ]
  },
  {
   "cell_type": "code",
   "execution_count": 55,
   "id": "2264c9ca-c78d-4376-a5b6-62be28989076",
   "metadata": {},
   "outputs": [
    {
     "name": "stdout",
     "output_type": "stream",
     "text": [
      "MySQL Database connection successful\n",
      "(2023,)\n",
      "(2023,)\n",
      "(2023,)\n",
      "(2023,)\n",
      "(2023,)\n",
      "(2023,)\n",
      "(2023,)\n",
      "(2023,)\n",
      "(2023,)\n",
      "(2023,)\n"
     ]
    }
   ],
   "source": [
    "# Print only years from table\n",
    "\n",
    "Q3 = \"\"\"\n",
    "select year(date_ordered) from orders;\n",
    "\"\"\"\n",
    "connection = create_db_connection('localhost', '****', '*******', 'mysql_python_1')\n",
    "result = read_query(connection, Q3)\n",
    "for results in result:\n",
    "    print(results)"
   ]
  },
  {
   "cell_type": "code",
   "execution_count": 56,
   "id": "8f4e0139-4074-4bf0-8a1f-1ce891313722",
   "metadata": {},
   "outputs": [
    {
     "name": "stdout",
     "output_type": "stream",
     "text": [
      "MySQL Database connection successful\n",
      "(2023,)\n"
     ]
    }
   ],
   "source": [
    "#Distinct years\n",
    "Q4 = \"\"\"\n",
    "select distinct(year(date_ordered)) from orders;\n",
    "\"\"\"\n",
    "connection = create_db_connection('localhost', '****', '*******', 'mysql_python_1')\n",
    "result = read_query(connection, Q4)\n",
    "for results in result:\n",
    "    print(results)"
   ]
  },
  {
   "cell_type": "code",
   "execution_count": 58,
   "id": "9f0c6c75-a9a7-4967-86d4-274259d7a4f1",
   "metadata": {},
   "outputs": [
    {
     "name": "stdout",
     "output_type": "stream",
     "text": [
      "MySQL Database connection successful\n",
      "(101, 'Ali', 'Laptop', datetime.date(2023, 1, 10), 1, 750.0, '03001234567')\n",
      "(109, 'Hassan', 'Camera', datetime.date(2023, 5, 2), 1, 500.0, '03089012345')\n",
      "(102, 'Sara', 'Phone', datetime.date(2023, 1, 15), 2, 450.0, '03012345678')\n",
      "(103, 'Ahmed', 'Tablet', datetime.date(2023, 2, 1), 1, 300.0, '03023456789')\n",
      "(110, 'Noor', 'Smartwatch', datetime.date(2023, 5, 15), 2, 200.0, '03090123456')\n",
      "(104, 'Ayesha', 'Monitor', datetime.date(2023, 2, 10), 3, 150.0, '03034567890')\n",
      "(107, 'Bilal', 'Printer', datetime.date(2023, 4, 5), 1, 120.0, '03067890123')\n",
      "(108, 'Fatima', 'Speaker', datetime.date(2023, 4, 20), 2, 60.0, '03078901234')\n",
      "(105, 'Usman', 'Keyboard', datetime.date(2023, 3, 1), 5, 25.0, '03045678901')\n",
      "(106, 'Zainab', 'Mouse', datetime.date(2023, 3, 10), 4, 20.0, '03056789012')\n"
     ]
    }
   ],
   "source": [
    "# Order by unit price. \n",
    "Q5 = \"\"\"\n",
    "select * from orders order by unit_price desc ;\n",
    "\"\"\"\n",
    "connection = create_db_connection('localhost', '****', '*******', 'mysql_python_1')\n",
    "result = read_query(connection, Q5)\n",
    "for results in result:\n",
    "        print(results)"
   ]
  },
  {
   "cell_type": "code",
   "execution_count": 61,
   "id": "28633b00-51dd-4577-b48c-6163ff62e8bf",
   "metadata": {},
   "outputs": [
    {
     "data": {
      "text/html": [
       "<div>\n",
       "<style scoped>\n",
       "    .dataframe tbody tr th:only-of-type {\n",
       "        vertical-align: middle;\n",
       "    }\n",
       "\n",
       "    .dataframe tbody tr th {\n",
       "        vertical-align: top;\n",
       "    }\n",
       "\n",
       "    .dataframe thead th {\n",
       "        text-align: right;\n",
       "    }\n",
       "</style>\n",
       "<table border=\"1\" class=\"dataframe\">\n",
       "  <thead>\n",
       "    <tr style=\"text-align: right;\">\n",
       "      <th></th>\n",
       "      <th>order_id</th>\n",
       "      <th>customer_name</th>\n",
       "      <th>product_name</th>\n",
       "      <th>date_ordered</th>\n",
       "      <th>quantity</th>\n",
       "      <th>unit_price</th>\n",
       "      <th>phone_number</th>\n",
       "    </tr>\n",
       "  </thead>\n",
       "  <tbody>\n",
       "    <tr>\n",
       "      <th>0</th>\n",
       "      <td>101</td>\n",
       "      <td>Ali</td>\n",
       "      <td>Laptop</td>\n",
       "      <td>2023-01-10</td>\n",
       "      <td>1</td>\n",
       "      <td>750.0</td>\n",
       "      <td>03001234567</td>\n",
       "    </tr>\n",
       "    <tr>\n",
       "      <th>1</th>\n",
       "      <td>109</td>\n",
       "      <td>Hassan</td>\n",
       "      <td>Camera</td>\n",
       "      <td>2023-05-02</td>\n",
       "      <td>1</td>\n",
       "      <td>500.0</td>\n",
       "      <td>03089012345</td>\n",
       "    </tr>\n",
       "    <tr>\n",
       "      <th>2</th>\n",
       "      <td>102</td>\n",
       "      <td>Sara</td>\n",
       "      <td>Phone</td>\n",
       "      <td>2023-01-15</td>\n",
       "      <td>2</td>\n",
       "      <td>450.0</td>\n",
       "      <td>03012345678</td>\n",
       "    </tr>\n",
       "    <tr>\n",
       "      <th>3</th>\n",
       "      <td>103</td>\n",
       "      <td>Ahmed</td>\n",
       "      <td>Tablet</td>\n",
       "      <td>2023-02-01</td>\n",
       "      <td>1</td>\n",
       "      <td>300.0</td>\n",
       "      <td>03023456789</td>\n",
       "    </tr>\n",
       "    <tr>\n",
       "      <th>4</th>\n",
       "      <td>110</td>\n",
       "      <td>Noor</td>\n",
       "      <td>Smartwatch</td>\n",
       "      <td>2023-05-15</td>\n",
       "      <td>2</td>\n",
       "      <td>200.0</td>\n",
       "      <td>03090123456</td>\n",
       "    </tr>\n",
       "    <tr>\n",
       "      <th>5</th>\n",
       "      <td>104</td>\n",
       "      <td>Ayesha</td>\n",
       "      <td>Monitor</td>\n",
       "      <td>2023-02-10</td>\n",
       "      <td>3</td>\n",
       "      <td>150.0</td>\n",
       "      <td>03034567890</td>\n",
       "    </tr>\n",
       "    <tr>\n",
       "      <th>6</th>\n",
       "      <td>107</td>\n",
       "      <td>Bilal</td>\n",
       "      <td>Printer</td>\n",
       "      <td>2023-04-05</td>\n",
       "      <td>1</td>\n",
       "      <td>120.0</td>\n",
       "      <td>03067890123</td>\n",
       "    </tr>\n",
       "    <tr>\n",
       "      <th>7</th>\n",
       "      <td>108</td>\n",
       "      <td>Fatima</td>\n",
       "      <td>Speaker</td>\n",
       "      <td>2023-04-20</td>\n",
       "      <td>2</td>\n",
       "      <td>60.0</td>\n",
       "      <td>03078901234</td>\n",
       "    </tr>\n",
       "    <tr>\n",
       "      <th>8</th>\n",
       "      <td>105</td>\n",
       "      <td>Usman</td>\n",
       "      <td>Keyboard</td>\n",
       "      <td>2023-03-01</td>\n",
       "      <td>5</td>\n",
       "      <td>25.0</td>\n",
       "      <td>03045678901</td>\n",
       "    </tr>\n",
       "    <tr>\n",
       "      <th>9</th>\n",
       "      <td>106</td>\n",
       "      <td>Zainab</td>\n",
       "      <td>Mouse</td>\n",
       "      <td>2023-03-10</td>\n",
       "      <td>4</td>\n",
       "      <td>20.0</td>\n",
       "      <td>03056789012</td>\n",
       "    </tr>\n",
       "  </tbody>\n",
       "</table>\n",
       "</div>"
      ],
      "text/plain": [
       "   order_id customer_name product_name date_ordered  quantity  unit_price  \\\n",
       "0       101           Ali       Laptop   2023-01-10         1       750.0   \n",
       "1       109        Hassan       Camera   2023-05-02         1       500.0   \n",
       "2       102          Sara        Phone   2023-01-15         2       450.0   \n",
       "3       103         Ahmed       Tablet   2023-02-01         1       300.0   \n",
       "4       110          Noor   Smartwatch   2023-05-15         2       200.0   \n",
       "5       104        Ayesha      Monitor   2023-02-10         3       150.0   \n",
       "6       107         Bilal      Printer   2023-04-05         1       120.0   \n",
       "7       108        Fatima      Speaker   2023-04-20         2        60.0   \n",
       "8       105         Usman     Keyboard   2023-03-01         5        25.0   \n",
       "9       106        Zainab        Mouse   2023-03-10         4        20.0   \n",
       "\n",
       "  phone_number  \n",
       "0  03001234567  \n",
       "1  03089012345  \n",
       "2  03012345678  \n",
       "3  03023456789  \n",
       "4  03090123456  \n",
       "5  03034567890  \n",
       "6  03067890123  \n",
       "7  03078901234  \n",
       "8  03045678901  \n",
       "9  03056789012  "
      ]
     },
     "metadata": {},
     "output_type": "display_data"
    }
   ],
   "source": [
    "# Presenting as a DataFrame\n",
    "\n",
    "from_db = []\n",
    "for row in result:\n",
    "    from_db.append(list(row))\n",
    "\n",
    "columns = ['order_id', 'customer_name', 'product_name', 'date_ordered', 'quantity', 'unit_price', 'phone_number']\n",
    "# Only 7 column names are listed above, but the data has 7 fields\n",
    "\n",
    "# ✅ OR update columns list to match data structure (10 fields if you're selecting * from a wider table)\n",
    "\n",
    "df = pd.DataFrame(from_db, columns=columns)\n",
    "display(df)\n"
   ]
  },
  {
   "cell_type": "code",
   "execution_count": null,
   "id": "d665179c-d8de-477a-8f5b-fcb81724a275",
   "metadata": {},
   "outputs": [],
   "source": []
  }
 ],
 "metadata": {
  "kernelspec": {
   "display_name": "Python 3 (ipykernel)",
   "language": "python",
   "name": "python3"
  },
  "language_info": {
   "codemirror_mode": {
    "name": "ipython",
    "version": 3
   },
   "file_extension": ".py",
   "mimetype": "text/x-python",
   "name": "python",
   "nbconvert_exporter": "python",
   "pygments_lexer": "ipython3",
   "version": "3.10.0"
  }
 },
 "nbformat": 4,
 "nbformat_minor": 5
}
